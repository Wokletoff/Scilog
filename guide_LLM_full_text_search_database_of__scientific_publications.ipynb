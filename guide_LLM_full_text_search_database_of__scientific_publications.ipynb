{
  "cells": [
    {
      "cell_type": "markdown",
      "id": "49110b91",
      "metadata": {
        "id": "49110b91"
      },
      "source": [
        "### Установите зависимости"
      ]
    },
    {
      "cell_type": "markdown",
      "id": "0117995a",
      "metadata": {
        "id": "0117995a"
      },
      "source": [
        "Сначала нам нужно установить такие зависимости, как towhee, towhee.models и gradio upgrade pip."
      ]
    },
    {
      "cell_type": "code",
      "execution_count": null,
      "id": "a377ea04-e3a3-44b8-be6f-350fc1e12f05",
      "metadata": {
        "colab": {
          "base_uri": "https://localhost:8080/"
        },
        "id": "a377ea04-e3a3-44b8-be6f-350fc1e12f05",
        "outputId": "dcda379b-c8c2-4d50-fb5f-eae52b84e4fc",
        "tags": []
      },
      "outputs": [],
      "source": [
        " pip install --upgrade pip"
      ]
    },
    {
      "cell_type": "code",
      "execution_count": null,
      "id": "c9ba3850",
      "metadata": {
        "id": "c9ba3850",
        "tags": []
      },
      "outputs": [],
      "source": [
        " pip install -q towhee towhee.models gradio"
      ]
    },
    {
      "cell_type": "markdown",
      "id": "a90db0c5",
      "metadata": {
        "id": "a90db0c5"
      },
      "source": [
        "### Подготовьте данные"
      ]
    },
    {
      "cell_type": "markdown",
      "id": "d1eceb58",
      "metadata": {
        "id": "d1eceb58"
      },
      "source": [
        "Для использования механизма необходимо установить таблицу со статьями с источника [Sci-hub](https://sci-hub.ruhttps://sci-hub.ru)."
      ]
    },
    {
      "cell_type": "code",
      "execution_count": null,
      "id": "d1436a9c",
      "metadata": {
        "colab": {
          "base_uri": "https://localhost:8080/"
        },
        "id": "d1436a9c",
        "outputId": "4fbb70aa-dd4d-4d35-f4cb-9d983df99f9e",
        "tags": []
      },
      "outputs": [],
      "source": [
        "! curl -L -O https://sci-hub.ru/downloads/archives/5000.tab"
      ]
    },
    {
      "cell_type": "markdown",
      "id": "1c5a0858",
      "metadata": {
        "id": "1c5a0858"
      },
      "source": [
        "### Создание коллекции Milvus"
      ]
    },
    {
      "cell_type": "markdown",
      "id": "efb06a01",
      "metadata": {
        "id": "efb06a01"
      },
      "source": [
        "Перед началом работы, пожалуйста, убедитесь, что у вас запущен  [Milvus service](https://milvus.io/docs/install_standalone-docker.md). В блокноте используется [milvus 2.2.10](https://milvus.io/docs/v2.2.x/install_standalone-docker.md) and [pymilvus 2.2.11](https://milvus.io/docs/release_notes.md#2210)."
      ]
    },
    {
      "cell_type": "code",
      "execution_count": null,
      "id": "8048bf6c",
      "metadata": {
        "id": "8048bf6c",
        "tags": []
      },
      "outputs": [],
      "source": [
        "! python -m pip install -q pymilvus==2.2.11 grpcio==1.53.0"
      ]
    },
    {
      "cell_type": "code",
      "execution_count": null,
      "id": "07a6157b",
      "metadata": {
        "id": "07a6157b"
      },
      "outputs": [],
      "source": [
        "! pip install torch"
      ]
    },
    {
      "cell_type": "code",
      "execution_count": null,
      "id": "508d56aa",
      "metadata": {
        "id": "508d56aa"
      },
      "outputs": [],
      "source": [
        "pip install towhee towhee.models gradio pandas pymilvus==2.2.11 transformers setuptools"
      ]
    },
    {
      "cell_type": "markdown",
      "id": "87ba2b23",
      "metadata": {
        "id": "87ba2b23"
      },
      "source": [
        "Затем определим функцию `cfp` для создания коллекции в Milvus, которая использует [L2 distance metric](https://milvus.io/docs/metric.md#Euclidean-distance-L2) и [IVF_FLAT index](https://milvus.io/docs/index.md#IVF_FLAT). Через configparserconfigparser парсируем ini файл Settings, в нем хранится значение Uri и токен к сервесу [ZilliZ](https://cloud.zilliz.com)."
      ]
    },
    {
      "cell_type": "code",
      "execution_count": null,
      "id": "22c19982",
      "metadata": {
        "id": "22c19982",
        "tags": []
      },
      "outputs": [],
      "source": [
        "from pymilvus import connections, FieldSchema, CollectionSchema, DataType, Collection, utility, MilvusClient\n",
        "import configparser\n",
        "\n",
        "cfp = configparser.RawConfigParser()\n",
        "cfp.read('settings.ini')\n",
        "connections.connect(\n",
        "    uri= cfp.get(\"settings\",\"uri\"),\n",
        "    token= cfp.get(\"settings\",\"token\")\n",
        ")\n"
      ]
    },
    {
      "cell_type": "markdown",
      "id": "d544bab6-e62f-46ed-9a2a-a8a397db8a3e",
      "metadata": {
        "id": "d544bab6-e62f-46ed-9a2a-a8a397db8a3e"
      },
      "source": [
        "Создаем функцию create_milvus_collection для создания схемы и коллекции данных."
      ]
    },
    {
      "cell_type": "code",
      "execution_count": null,
      "id": "1d8edafe",
      "metadata": {
        "id": "1d8edafe",
        "tags": []
      },
      "outputs": [],
      "source": [
        "from pymilvus import connections, FieldSchema, CollectionSchema, DataType, Collection, utility, MilvusClient\n",
        "import configparser\n",
        "\n",
        "def create_milvus_collection(collection_name, dim):\n",
        "    if utility.has_collection(collection_name):\n",
        "        utility.drop_collection(collection_name)\n",
        "\n",
        "    fields = [\n",
        "    FieldSchema(name='id', dtype=DataType.VARCHAR, descrition='ids', max_length=500, is_primary=True, auto_id=False),\n",
        "    FieldSchema(name='embedding', dtype=DataType.FLOAT_VECTOR, descrition='embedding vectors', dim=dim),\n",
        "    FieldSchema(name='text', dtype=DataType.VARCHAR,max_length=1000)\n",
        "    ]\n",
        "    schema = CollectionSchema(fields=fields, description='reverse image search')\n",
        "    collection = Collection(name=collection_name, schema=schema)\n",
        "\n",
        "    # create IVF_FLAT index for collection.\n",
        "    index_params = {\n",
        "        'metric_type':'L2',\n",
        "        'index_type':\"IVF_FLAT\",\n",
        "        'params':{\"nlist\":2048}\n",
        "    }\n",
        "    collection.create_index(field_name=\"embedding\", index_params=index_params)\n",
        "    return collection\n",
        "\n",
        "collection = create_milvus_collection('testuser2', 768)"
      ]
    },
    {
      "cell_type": "markdown",
      "id": "9724ba28",
      "metadata": {
        "id": "9724ba28"
      },
      "source": [
        "## Механизм Поиска"
      ]
    },
    {
      "cell_type": "markdown",
      "id": "4c0188bf",
      "metadata": {
        "id": "4c0188bf"
      },
      "source": [
        "### Загрузить вопрос, встраиваемый в Milvus"
      ]
    },
    {
      "cell_type": "markdown",
      "id": "7a934e50-b011-4453-b543-fe006c822244",
      "metadata": {
        "id": "7a934e50-b011-4453-b543-fe006c822244",
        "tags": []
      },
      "source": [
        "Открываем заранее установленных файл со статьями и получаем строки, отделяем статьи от id. Получившийся текс необходимо деккомресовать и получить читабельный текс. Из-за большого объема текста данные не получется сразу отправить на сервер, для решения этой проблемы необходимо разбить текст на чанки."
      ]
    },
    {
      "cell_type": "code",
      "execution_count": null,
      "id": "ba20781b-0723-4de4-8f19-a99bd280134d",
      "metadata": {
        "id": "ba20781b-0723-4de4-8f19-a99bd280134d",
        "tags": []
      },
      "outputs": [],
      "source": [
        "from towhee import pipe, ops\n",
        "from base64 import b64decode\n",
        "import requests\n",
        "import base64\n",
        "import zlib\n",
        "import urllib\n",
        "\n",
        "txt = open('5000.tab', 'r')\n",
        "for i in range(5):\n",
        "    line = txt.readline()\n",
        "    txtId = line.split(\"\\t\")[0]\n",
        "    src = line.split(\"\\t\")[1].replace(\"\\n\",\"\")\n",
        "    if len(src) < 1000:\n",
        "        continue\n",
        "    text2 = base64.b64decode(src)\n",
        "    decompressed_data=zlib.decompress(text2, 16+zlib.MAX_WBITS)\n",
        "    p =(\n",
        "        pipe.input('id', 'text', 'question' )\n",
        "        .map('question', 'vec', ops.text_embedding.dpr(model_name='facebook/dpr-ctx_encoder-single-nq-base'))\n",
        "        .map('text','text',lambda x: x)\n",
        "        .map('vec', 'vec', lambda x: x / np.linalg.norm(x, axis=0))\n",
        "        .map(('id', 'vec', 'text'), 'insert_status', ops.ann_insert.milvus_client(uri=cfp.get(\"settings\",\"uri\"), token=cfp.get(\"settings\",\"token\"), collection_name='testuser2'))\n",
        "        .output()\n",
        "        )\n",
        "\n",
        "\n",
        "deco_date = decompressed_data.decode()\n",
        "chunk_size = 78\n",
        "chunks = [deco_date[i:(i + chunk_size)] for i in range(0, len(deco_date), chunk_size)]\n",
        "print(deco_date,chunks)"
      ]
    },
    {
      "cell_type": "code",
      "execution_count": null,
      "id": "0cb3b338-d69c-47c9-94ee-611c7ca191c1",
      "metadata": {
        "id": "0cb3b338-d69c-47c9-94ee-611c7ca191c1"
      },
      "outputs": [],
      "source": [
        "При помощи команды P создаем запрос на отправку данных на сервер. Операция DataCollection запущенная в цикле отправляет выбранные данные на сервер."
      ]
    },
    {
      "cell_type": "code",
      "execution_count": null,
      "id": "08af2a81-1a64-48b4-86b8-671af58abfd0",
      "metadata": {
        "id": "08af2a81-1a64-48b4-86b8-671af58abfd0",
        "tags": []
      },
      "outputs": [],
      "source": [
        "%%time\n",
        "from towhee import pipe, ops\n",
        "import numpy as np\n",
        "from towhee.datacollection import DataCollection\n",
        "p = (\n",
        "    pipe.input('id', 'text' ,'question','answer')\n",
        "        .map('question', 'vec', ops.text_embedding.dpr(model_name='facebook/dpr-ctx_encoder-single-nq-base'))\n",
        "        .map('text','text',lambda x: x)\n",
        "        .map('vec', 'vec', lambda x: x / np.linalg.norm(x, axis=0))\n",
        "        .map(('id', 'vec', 'text'), 'insert_status', ops.ann_insert.milvus_client(uri=cfp.get(\"settings\",\"uri\"), token=cfp.get(\"settings\",\"token\"), collection_name='testuser2'))\n",
        "        .output()\n",
        ")\n",
        "for id, chunk in enumerate(chunks[:5]):\n",
        "\n",
        "    DataCollection(p(f\"{txtId}:{id}\",chunk,chunk, txtId)).show()"
      ]
    },
    {
      "cell_type": "code",
      "execution_count": null,
      "id": "f7a07431-967a-4a69-b297-7cf7b53192e4",
      "metadata": {
        "id": "f7a07431-967a-4a69-b297-7cf7b53192e4"
      },
      "outputs": [],
      "source": [
        "Print показывает количество данных отправленное на сервер"
      ]
    },
    {
      "cell_type": "code",
      "execution_count": null,
      "id": "1adbb2e1",
      "metadata": {
        "id": "1adbb2e1",
        "tags": []
      },
      "outputs": [],
      "source": [
        "print('Total number of inserted data is {}.'.format(collection.num_entities))"
      ]
    },
    {
      "cell_type": "markdown",
      "id": "b35657d0",
      "metadata": {
        "id": "b35657d0"
      },
      "source": [
        "### Задайте вопрос Милвусу и Тови"
      ]
    },
    {
      "cell_type": "markdown",
      "id": "cd02adfc",
      "metadata": {
        "id": "cd02adfc"
      },
      "source": [
        "После удачной отправки данных, создаем запрос получения статьи с id из фрагмента текста."
      ]
    },
    {
      "cell_type": "code",
      "execution_count": null,
      "id": "95913f05",
      "metadata": {
        "id": "95913f05",
        "tags": []
      },
      "outputs": [],
      "source": [
        "%%time\n",
        "collection.load()\n",
        "ans_pipe = (\n",
        "    pipe.input('question')\n",
        "        .map('question', 'vec', ops.text_embedding.dpr(model_name=\"facebook/dpr-ctx_encoder-single-nq-base\"))\n",
        "        .map('vec', 'vec', lambda x: x / np.linalg.norm(x, axis=0))\n",
        "        .map('vec', 'res', ops.ann_search.milvus_client(uri=cfp.get(\"settings\",\"uri\"), token=cfp.get(\"settings\",\"token\"), collection_name='testuser2', limit=1, **{'output_fields': ['id', 'text']}))\n",
        "        .map('res', 'answer', lambda x: [x[0][0], x[0][3]])\n",
        "        .output('question', 'answer')\n",
        ")\n",
        "\n",
        "\n",
        "ans = ans_pipe('nduty toward its neighbors, not perhaps to')\n",
        "ans = DataCollection(ans)\n",
        "ans.show()"
      ]
    },
    {
      "cell_type": "markdown",
      "id": "4a89996d-ffba-4290-995d-9deb1f2d7eaf",
      "metadata": {
        "id": "4a89996d-ffba-4290-995d-9deb1f2d7eaf"
      },
      "source": [
        "Проверка получившегося ответа"
      ]
    },
    {
      "cell_type": "code",
      "execution_count": null,
      "id": "cb1a8f96",
      "metadata": {
        "id": "cb1a8f96",
        "tags": []
      },
      "outputs": [],
      "source": [
        "ans[0][\"answer\"][1]"
      ]
    }
  ],
  "metadata": {
    "colab": {
      "provenance": []
    },
    "kernelspec": {
      "display_name": "DataSphere Kernel",
      "language": "python",
      "name": "python3"
    },
    "language_info": {
      "codemirror_mode": {
        "name": "ipython",
        "version": 3
      },
      "file_extension": ".py",
      "mimetype": "text/x-python",
      "name": "python",
      "nbconvert_exporter": "python",
      "pygments_lexer": "ipython3",
      "version": "3.11.2"
    },
    "vscode": {
      "interpreter": {
        "hash": "f7dd10cdbe9a9c71f7e71741efd428241b5f9fa0fecdd29ae07a5706cd5ff8a2"
      }
    }
  },
  "nbformat": 4,
  "nbformat_minor": 5
}
